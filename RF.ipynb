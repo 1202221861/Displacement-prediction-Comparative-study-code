{
 "cells": [
  {
   "cell_type": "code",
   "execution_count": null,
   "id": "5bdd9dee-9af1-41d8-8f32-301904f6c902",
   "metadata": {},
   "outputs": [],
   "source": [
    "import numpy as np\n",
    "import matplotlib.pyplot as plt\n",
    "import pandas as pd\n",
    "from sklearn import preprocessing\n",
    "from sklearn.ensemble import RandomForestRegressor\n",
    "from sklearn.metrics import mean_squared_error, mean_absolute_error, r2_score\n",
    "import math"
   ]
  },
  {
   "cell_type": "code",
   "execution_count": null,
   "id": "cc041f50-750f-463a-9fa6-5a9ae68c1f15",
   "metadata": {},
   "outputs": [],
   "source": [
    "window = 3\n",
    "Ra = 0.8"
   ]
  },
  {
   "cell_type": "code",
   "execution_count": null,
   "id": "ccd55423-a1a5-4ee4-af16-d4944ed98ee9",
   "metadata": {},
   "outputs": [],
   "source": [
    "df = pd.read_excel(r\"D:\\displaced prediction\\data\\####.xlsx\")\n",
    "time_column = df.iloc[:, 0] \n",
    "target_column = df.iloc[:, 1] \n",
    "feature_columns = df.iloc[:, 1:]  \n",
    "\n",
    "min_max_scaler_target = preprocessing.MinMaxScaler()\n",
    "min_max_scaler_features = preprocessing.MinMaxScaler()\n",
    "\n",
    "target_scaled = min_max_scaler_target.fit_transform(target_column.values.reshape(-1, 1))\n",
    "features_scaled = min_max_scaler_features.fit_transform(feature_columns)\n",
    "\n",
    "scaled_data = np.hstack((target_scaled, features_scaled))\n",
    "scaled_df = pd.DataFrame(scaled_data, columns=df.columns[:])\n",
    "\n",
    "train_d, test_d = scaled_df.iloc[0:int(len(scaled_df) * Ra)], scaled_df.iloc[int(len(scaled_df) * Ra):]\n",
    "\n",
    "seq_len = window\n",
    "amount_of_features = scaled_df.shape[1]\n",
    "data = scaled_df.values\n",
    "sequence_length = seq_len + 1\n",
    "result = []\n",
    "\n",
    "for index in range(len(data) - sequence_length):\n",
    "    result.append(data[index: index + sequence_length])\n",
    "result = np.array(result)\n",
    "\n",
    "cut = len(test_d)\n",
    "train = result[:-cut, :]\n",
    "x_train = train[:, :-1]\n",
    "y_train = train[:, -1][:, 0] \n",
    "x_test = result[-cut:, :-1]\n",
    "y_test = result[-cut:, -1][:, 0]\n",
    "\n",
    "X_train = x_train.reshape(len(x_train), -1)\n",
    "y_train = y_train.reshape(len(x_train))\n",
    "X_test = x_test.reshape(cut, -1)\n",
    "y_test = y_test.reshape(cut)\n",
    "\n",
    "rf = RandomForestRegressor(n_estimators=300, max_depth=None, min_samples_split=50, random_state=0)\n",
    "model = rf.fit(X_train, y_train)\n",
    "\n",
    "y_train_predict = model.predict(X_train)\n",
    "y_test_predict = model.predict(X_test)\n",
    "\n",
    "y_test_actual = min_max_scaler_target.inverse_transform(y_test.reshape(-1, 1))\n",
    "y_test_predicted = min_max_scaler_target.inverse_transform(y_test_predict.reshape(-1, 1))\n",
    "\n",
    "\n",
    "testScore_mae = mean_absolute_error(y_test_actual, y_test_predicted)\n",
    "print(f'MAE为：{testScore_mae:.3f}')\n",
    "testScore_mse = mean_squared_error(y_test_actual, y_test_predicted)\n",
    "print(f'MSE为：{testScore_mse:.3f}')\n",
    "testScore_rmse = math.sqrt(testScore_mse)\n",
    "print(f'RMSE为：{testScore_rmse:.3f}')\n",
    "testScore_r2 = r2_score(y_test_actual, y_test_predicted)\n",
    "print(f'R2为：{testScore_r2:.3f}')\n",
    "testScore_mape = np.mean(np.abs((y_test_predicted - y_test_actual) / y_test_actual)) * 100\n",
    "print(f'MAPE为：{testScore_mape:.3f}%')\n",
    "\n",
    "\n",
    "plt.figure(figsize=(10, 4), dpi=150)\n",
    "plt.plot(y_test_actual, label=\"Actual\", color='red', linewidth=4)\n",
    "plt.plot(y_test_predicted, color='blue', label='Prediction', linewidth=2.5, linestyle=\"--\")\n",
    "plt.title('Prediction', size=15)\n",
    "plt.ylabel('AQI', size=15)\n",
    "plt.xlabel('time/day', size=15)\n",
    "plt.legend()\n",
    "plt.show()\n"
   ]
  },
  {
   "cell_type": "code",
   "execution_count": null,
   "id": "d12f3d75-11bc-4d3c-8af8-2b60d5d0373a",
   "metadata": {},
   "outputs": [],
   "source": [
    "\n",
    "export_data = pd.DataFrame({\n",
    "    'Actual': y_test_actual.flatten(),\n",
    "    'Prediction': y_test_predicted.flatten()\n",
    "})\n",
    "\n",
    "\n",
    "export_data.to_excel( r\"C:\\Users\\10512\\Downloads\\1.xlsx\", index=False)\n",
    "\n",
    "print(\"预测结果已导出\")\n"
   ]
  }
 ],
 "metadata": {
  "kernelspec": {
   "display_name": "name",
   "language": "python",
   "name": "name"
  },
  "language_info": {
   "codemirror_mode": {
    "name": "ipython",
    "version": 3
   },
   "file_extension": ".py",
   "mimetype": "text/x-python",
   "name": "python",
   "nbconvert_exporter": "python",
   "pygments_lexer": "ipython3",
   "version": "3.11.7"
  }
 },
 "nbformat": 4,
 "nbformat_minor": 5
}
