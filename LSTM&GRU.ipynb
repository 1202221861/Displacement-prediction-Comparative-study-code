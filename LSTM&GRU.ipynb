{
 "cells": [
  {
   "cell_type": "code",
   "execution_count": null,
   "id": "cbe76933",
   "metadata": {},
   "outputs": [],
   "source": [
    "import matplotlib.pyplot as plt\n",
    "import numpy as np\n",
    "import pandas as pd\n",
    "import torch\n",
    "import torch.nn as nn\n",
    "import sklearn\n",
    "import torch.utils.data\n",
    "from torch.utils.data import TensorDataset\n",
    "from tqdm import tqdm"
   ]
  },
  {
   "cell_type": "code",
   "execution_count": null,
   "id": "df706ec8",
   "metadata": {},
   "outputs": [],
   "source": [
    "torch.manual_seed(9876543210) \n",
    "device=\"cuda\" if torch.cuda.is_available() else \"cpu\" "
   ]
  },
  {
   "cell_type": "code",
   "execution_count": null,
   "id": "99dfe2e0",
   "metadata": {},
   "outputs": [],
   "source": [
    "data_path = r\"D:\\displaced prediction\\data\\####.xlsx\"\n",
    "df = pd.read_excel(data_path,index_col = 0) \n",
    "df.head(5)"
   ]
  },
  {
   "cell_type": "code",
   "execution_count": null,
   "id": "2d13bbf3",
   "metadata": {},
   "outputs": [],
   "source": [
    "original_data=np.array(df) \n",
    "original_data[np.isnan(original_data)]=0 "
   ]
  },
  {
   "cell_type": "code",
   "execution_count": null,
   "id": "f8731102",
   "metadata": {},
   "outputs": [],
   "source": [
    "timestep = 3 \n",
    "feature_size = 1 \n",
    "#input_size = 4\n",
    "output_size = 1 \n",
    "batch_size = 64 \n",
    "hidden_size = 32 \n",
    "num_layers = 2 \n",
    "epochs = 1000 \n",
    "best_loss = 0\n",
    "learning_rate = 0.01 \n",
    "model_name = 'LSTM'\n",
    "save_path = './{}.pt'.format(model_name) "
   ]
  },
  {
   "cell_type": "code",
   "execution_count": null,
   "id": "516ccb15",
   "metadata": {},
   "outputs": [],
   "source": [
    "def normalization(data):\n",
    "    mean=data.mean()\n",
    "    shifted_data=data-mean\n",
    "    scaler=data.var()\n",
    "    scaled_data=shifted_data/scaler\n",
    "    return mean,scaler,scaled_data "
   ]
  },
  {
   "cell_type": "code",
   "execution_count": null,
   "id": "d35cce85",
   "metadata": {},
   "outputs": [],
   "source": [
    "def denormalization(data,mean,scaler):\n",
    "    return data*scaler+mean"
   ]
  },
  {
   "cell_type": "code",
   "execution_count": null,
   "id": "f3d64c1f",
   "metadata": {},
   "outputs": [],
   "source": [
    "def preprocess_data(input_data,output_data,timestep,feature_size):\n",
    "    data_number=input_data.shape[0]\n",
    "    dataX=np.zeros([data_number-timestep,timestep,feature_size])\n",
    "    dataY=np.zeros([data_number-timestep,1])\n",
    "    \n",
    "    for index in range(data_number - timestep):\n",
    "        dataX[index,:,:]=input_data[index: index + timestep,:]\n",
    "        dataY[index,:]=output_data[index+timestep,:]\n",
    "    \n",
    "    return dataX,dataY"
   ]
  },
  {
   "cell_type": "code",
   "execution_count": null,
   "id": "c05b0737",
   "metadata": {},
   "outputs": [],
   "source": [
    "def split_data(input_data,output_data, timestep,feature_size):\n",
    "    dataX,dataY=preprocess_data(input_data,output_data,timestep,feature_size)\n",
    "\n",
    "    train_size = int(np.round(0.8 * dataX.shape[0]))\n",
    "\n",
    "    x_train = dataX[:train_size]\n",
    "    y_train = dataY[:train_size]\n",
    "\n",
    "    x_test = dataX[train_size:]\n",
    "    y_test = dataY[train_size:]\n",
    "\n",
    "    return [x_train, y_train, x_test, y_test]"
   ]
  },
  {
   "cell_type": "code",
   "execution_count": null,
   "id": "6697ba86",
   "metadata": {},
   "outputs": [],
   "source": [
    "input_mean,input_scale,input_data=normalization(original_data[:,:feature_size])\n",
    "output_mean,output_scale,output_data=normalization(original_data[:,-1])\n",
    "output_data=output_data.reshape(-1,1) "
   ]
  },
  {
   "cell_type": "code",
   "execution_count": null,
   "id": "d49123fa",
   "metadata": {},
   "outputs": [],
   "source": [
    "x_train, y_train, x_test, y_test = split_data(input_data,output_data, timestep,feature_size)"
   ]
  },
  {
   "cell_type": "code",
   "execution_count": null,
   "id": "984d7196",
   "metadata": {},
   "outputs": [],
   "source": [
    "x_train_tensor = torch.from_numpy(x_train).to(torch.float32).to(device)\n",
    "y_train_tensor = torch.from_numpy(y_train).to(torch.float32).to(device)\n",
    "x_test_tensor = torch.from_numpy(x_test).to(torch.float32).to(device)\n",
    "y_test_tensor = torch.from_numpy(y_test).to(torch.float32).to(device)"
   ]
  },
  {
   "cell_type": "code",
   "execution_count": null,
   "id": "9b0efbfe",
   "metadata": {},
   "outputs": [],
   "source": [
    "train_data = TensorDataset(x_train_tensor, y_train_tensor)\n",
    "test_data = TensorDataset(x_test_tensor, y_test_tensor)"
   ]
  },
  {
   "cell_type": "code",
   "execution_count": null,
   "id": "d7de81c6",
   "metadata": {},
   "outputs": [],
   "source": [
    "train_loader = torch.utils.data.DataLoader(train_data,\n",
    "                                           batch_size,\n",
    "                                           False)\n",
    "\n",
    "test_loader = torch.utils.data.DataLoader(test_data,\n",
    "                                          batch_size,\n",
    "                                          False)"
   ]
  },
  {
   "cell_type": "code",
   "execution_count": null,
   "id": "8889648d-7eab-4128-8e67-390898a5cc85",
   "metadata": {},
   "outputs": [],
   "source": [
    "class LSTM(nn.Module):  \n",
    "    def __init__(self, feature_size, hidden_size, num_layers, output_size, timestep, device):  \n",
    "        super(LSTM, self).__init__()  \n",
    "        self.hidden_size = hidden_size  \n",
    "        self.num_layers = num_layers \n",
    "        self.device = device  \n",
    "        self.lstm = nn.LSTM(feature_size, hidden_size, num_layers, batch_first=True)  \n",
    "        self.fc = nn.Linear(hidden_size, output_size)  \n",
    "  \n",
    "    def forward(self, x, hidden=None):  \n",
    "    \n",
    "        batch_size = x.shape[0]   \n",
    "        seq_len = x.shape[1]    \n",
    "  \n",
    "        if hidden is None:  \n",
    "            h_0 = torch.zeros(self.num_layers, batch_size, self.hidden_size).to(self.device)  \n",
    "            c_0 = torch.zeros(self.num_layers, batch_size, self.hidden_size).to(self.device)  \n",
    "            hidden = (h_0, c_0)  \n",
    "  \n",
    "        output, (hn, cn) = self.lstm(x, hidden)  \n",
    "  \n",
    "        output = output[:, -1, :] \n",
    "        output = output.reshape(-1, self.hidden_size)\n",
    "  \n",
    "        output = self.fc(output)  \n",
    "        return output, (hn, cn) \n",
    "  \n",
    "model = LSTM(feature_size, hidden_size, num_layers, output_size, timestep, device).to(device)  \n",
    "loss_function = nn.MSELoss()  \n",
    "optimizer = torch.optim.Adam(model.parameters(), lr=0.001)  \n",
    "  "
   ]
  },
  {
   "cell_type": "code",
   "execution_count": null,
   "id": "d6cd3675",
   "metadata": {},
   "outputs": [],
   "source": [
    "'''\n",
    "class GRU(nn.Module):\n",
    "    def __init__(self, feature_size, hidden_size, num_layers, output_size,timestamp,device):\n",
    "        super(GRU, self).__init__()\n",
    "        self.hidden_size = hidden_size  \n",
    "        self.num_layers = num_layers \n",
    "        self.timestamp=timestamp\n",
    "        self.device=device\n",
    "        self.gru = nn.GRU(feature_size, hidden_size, num_layers, batch_first=True)\n",
    "        self.fc = nn.Linear(hidden_size, output_size)\n",
    "\n",
    "\n",
    "\n",
    "    def forward(self, x, hidden=None):\n",
    "        batch_size = x.shape[0]\n",
    "        \n",
    "\n",
    "        if hidden is None:\n",
    "            h_0=torch.zeros(self.num_layers,batch_size,self.hidden_size).to(self.device)\n",
    "        else:\n",
    "            h_0 = hidden\n",
    "            \n",
    "        output, next_states = self.gru(x, h_0)\n",
    "        output=output[:,0,:]#[:,-1,:]\n",
    "        output=output.reshape(-1,self.hidden_size)\n",
    "    \n",
    "        output = self.fc(output)\n",
    "        return output,next_states\n",
    "\n",
    "\n",
    "model = GRU(feature_size, hidden_size, num_layers, output_size,timestep,device).to(device)\n",
    "loss_function = nn.MSELoss() \n",
    "optimizer = torch.optim.Adam(model.parameters(), lr=learning_rate) \n",
    "'''"
   ]
  },
  {
   "cell_type": "code",
   "execution_count": null,
   "id": "498498c2",
   "metadata": {},
   "outputs": [],
   "source": [
    "\n",
    "for epoch in range(epochs):\n",
    "    model.train()\n",
    "    running_loss = 0\n",
    "    train_bar = tqdm(train_loader)  \n",
    "    for data in train_bar:\n",
    "        x_train, y_train = data  \n",
    "        optimizer.zero_grad()\n",
    "        y_train_pred,next_states = model(x_train) \n",
    "        loss = loss_function(y_train_pred.reshape(-1,1), y_train.reshape(-1, 1)) \n",
    "        loss.backward()\n",
    "        optimizer.step()\n",
    "\n",
    "        running_loss += loss.item()\n",
    "        train_bar.desc = \"train epoch[{}/{}] loss:{:.6f}\".format(epoch + 1,\n",
    "                                                                 epochs,\n",
    "                                                                 loss)\n",
    "\n",
    "torch.save(model, save_path)"
   ]
  },
  {
   "cell_type": "code",
   "execution_count": null,
   "id": "ff3b8bf1",
   "metadata": {},
   "outputs": [],
   "source": [
    "\n",
    "model.eval()\n",
    "test_loss = 0\n",
    "with torch.no_grad():\n",
    "    test_bar = tqdm(test_loader)\n",
    "    for data in test_bar:\n",
    "        x_test, y_test = data\n",
    "        y_test_pred,next_states = model(x_test)\n",
    "        test_loss = loss_function(y_test_pred.reshape(-1,1), y_test.reshape(-1, 1))\n",
    "\n",
    "print('Finished Training')\n",
    "print(\"total error:\",test_loss)"
   ]
  },
  {
   "cell_type": "code",
   "execution_count": null,
   "id": "840b2e52",
   "metadata": {},
   "outputs": [],
   "source": [
    "\n",
    "X_all,Y_all=preprocess_data(input_data, output_data, timestep, feature_size)\n",
    "x_all_torch=torch.from_numpy(X_all).to(torch.float32).to(device)\n",
    "predict_y,_=model(x_all_torch)\n",
    "predict_y=predict_y.detach().cpu().numpy()\n",
    "\n",
    "plt.plot(denormalization(Y_all,output_mean,output_scale),color=\"r\",label=\"origial\")\n",
    "plt.plot(denormalization(predict_y,output_mean,output_scale),color=\"b\",label=\"prediction\")\n",
    "plt.legend()\n",
    "plt.show()"
   ]
  },
  {
   "cell_type": "code",
   "execution_count": null,
   "id": "4f38e4a0",
   "metadata": {},
   "outputs": [],
   "source": [
    "\n",
    "true = denormalization(Y_all,output_mean,output_scale)\n",
    "pre = denormalization(predict_y,output_mean,output_scale)\n",
    "mse = np.sum((true-pre) ** 2) / len(pre)\n",
    "rmse = np.sqrt(mse)\n",
    "mae = np.sum(np.absolute(true-pre)) / len(pre)\n",
    "r2 = 1-mse/ np.var(pre)\n",
    "mape = np.mean(np.abs((pre - true) / true))\n",
    "print(\" mae:\",mae,\"mse:\",mse,\" rmse:\",rmse,\" r2:\",r2,\" mape:\",mape)\n"
   ]
  },
  {
   "cell_type": "code",
   "execution_count": null,
   "id": "f59d14a4",
   "metadata": {},
   "outputs": [],
   "source": [
    "\n",
    "df_1 = pd.DataFrame(pre, columns=['pre'])  \n",
    "df_2 = pd.DataFrame(true, columns=['true'])  \n",
    "\n",
    "output_path1 = r'C:\\Users\\10512\\Downloads\\output_pre.xlsx'  \n",
    "output_path2 = r'C:\\Users\\10512\\Downloads\\output_true.xlsx'  \n",
    "\n",
    "df_1.to_excel(output_path1, index=False, engine='openpyxl')  \n",
    "df_2.to_excel(output_path2, index=False, engine='openpyxl')  \n",
    "  \n",
    "print(f\"Excel文件已保存到：{output_path1}\")  \n",
    "print(f\"Excel文件已保存到：{output_path2}\")\n"
   ]
  }
 ],
 "metadata": {
  "kernelspec": {
   "display_name": "name",
   "language": "python",
   "name": "name"
  },
  "language_info": {
   "codemirror_mode": {
    "name": "ipython",
    "version": 3
   },
   "file_extension": ".py",
   "mimetype": "text/x-python",
   "name": "python",
   "nbconvert_exporter": "python",
   "pygments_lexer": "ipython3",
   "version": "3.11.7"
  }
 },
 "nbformat": 4,
 "nbformat_minor": 5
}
