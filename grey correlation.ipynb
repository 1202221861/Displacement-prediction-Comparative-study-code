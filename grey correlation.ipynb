{
 "cells": [
  {
   "cell_type": "code",
   "execution_count": 9,
   "id": "36e37d36-e78c-4639-8004-afe382f8d410",
   "metadata": {},
   "outputs": [],
   "source": [
    "import pandas as pd\n",
    "import numpy as np\n",
    "\n",
    "input_file = r\"D:\\displaced prediction\\data\\####.xlsx\"\n",
    "data = pd.read_excel(input_file)\n",
    "\n",
    "time = data.iloc[:, 0] \n",
    "target = data.iloc[:, 1] \n",
    "factors = data.iloc[:, 2: ] \n",
    "\n",
    "def normalize(series):\n",
    "    return (series - series.min()) / (series.max() - series.min())\n",
    "\n",
    "target_normalized = normalize(target)\n",
    "factors_normalized = factors.apply(normalize)\n",
    "\n",
    "def grey_relation(target, factor, rho=0.5):\n",
    "    diff = np.abs(target - factor)\n",
    "    min_diff = np.min(diff)\n",
    "    max_diff = np.max(diff)\n",
    "    relation_coeff = (min_diff + rho * max_diff) / (diff + rho * max_diff)\n",
    "    relation_degree = np.mean(relation_coeff)\n",
    "    return relation_degree\n",
    "\n",
    "relation_degrees = factors_normalized.apply(lambda col: grey_relation(target_normalized, col))\n",
    "\n",
    "output_file = r\"C:\\Users\\10512\\Downloads\\1.xlsx\" \n",
    "relation_degrees_df = pd.DataFrame(relation_degrees, columns=['Grey Relation Degree'])\n",
    "relation_degrees_df.to_excel(output_file, index=True)\n"
   ]
  }
 ],
 "metadata": {
  "kernelspec": {
   "display_name": "name",
   "language": "python",
   "name": "name"
  },
  "language_info": {
   "codemirror_mode": {
    "name": "ipython",
    "version": 3
   },
   "file_extension": ".py",
   "mimetype": "text/x-python",
   "name": "python",
   "nbconvert_exporter": "python",
   "pygments_lexer": "ipython3",
   "version": "3.11.7"
  }
 },
 "nbformat": 4,
 "nbformat_minor": 5
}
